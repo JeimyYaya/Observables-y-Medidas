{
 "cells": [
  {
   "cell_type": "markdown",
   "metadata": {},
   "source": [
    "### SIMULE EL PRIMER SISTEMA CUÁNTICO DESCRITO EN LA SECCIÓN 4.1.\n",
    "1. El sistema debe calcular la probabilidad de encontrarlo en una posición en particular."
   ]
  },
  {
   "cell_type": "code",
   "execution_count": 18,
   "metadata": {},
   "outputs": [
    {
     "name": "stdout",
     "output_type": "stream",
     "text": [
      "0.25\n"
     ]
    }
   ],
   "source": [
    "import numpy as np\n",
    "def is_normalized(ket):\n",
    "    # Check if the ket vector is normalized\n",
    "    norm = np.linalg.norm(ket)\n",
    "    return np.isclose(norm, 1)\n",
    "\n",
    "def calculate_probability(position, ket):\n",
    "    # Verify that both ket vectors are normalized\n",
    "    if not is_normalized(ket):\n",
    "        ket1 = ket1 / np.linalg.norm(ket)\n",
    "    \n",
    "    # Calculate the probability\n",
    "    probability = abs(ket[position]) ** 2 \n",
    "    return probability\n",
    "\n",
    "def main():\n",
    "    # Define the ket\n",
    "    ket = [1/2, 1/2, 1/2, 1/2]\n",
    "    # Define the position\n",
    "    position = 2\n",
    "    # Calculate the probability\n",
    "    probability = calculate_probability(position, ket)\n",
    "    # Print the probability\n",
    "    print(probability)\n",
    "\n",
    "main()\n"
   ]
  },
  {
   "cell_type": "markdown",
   "metadata": {},
   "source": [
    "2. El sistema si se le da otro vector Ket debe buscar la probabilidad de transitar del primer vector al segundo."
   ]
  },
  {
   "cell_type": "code",
   "execution_count": 17,
   "metadata": {},
   "outputs": [
    {
     "name": "stdout",
     "output_type": "stream",
     "text": [
      "0.7499999999999999\n"
     ]
    }
   ],
   "source": [
    "import numpy as np\n",
    "\n",
    "def is_normalized(ket):\n",
    "    # Check if the ket vector is normalized\n",
    "    norm = np.linalg.norm(ket)\n",
    "    return np.isclose(norm, 1)\n",
    "\n",
    "def calculate_probability2(position, ket1, ket2):\n",
    "    # Verify that both ket vectors are normalized\n",
    "    if not is_normalized(ket1):\n",
    "        ket1 = ket1 / np.linalg.norm(ket1)\n",
    "    if not is_normalized(ket2):\n",
    "        ket2 = ket2 / np.linalg.norm(ket2)\n",
    "    \n",
    "    # Calculate the probability\n",
    "    probability = abs(np.inner(ket2,ket1)) ** 2 \n",
    "    return probability\n",
    "\n",
    "# Example usage\n",
    "ket1 = [1/2, 1/2, 1/2, 1/2]\n",
    "ket2 = [1/3, 1/3, 1/3, 0]\n",
    "position = 2\n",
    "probability2 = calculate_probability2(position, ket1, ket2)\n",
    "print(probability2)\n"
   ]
  },
  {
   "cell_type": "markdown",
   "metadata": {},
   "source": [
    "### COMPLETE LOS RETOS DE PROGRAMACIÓN DEL CAPÍTULO 4.\n",
    "1. Amplitud de transición. El sistema puede recibir dos vectores y calcular la probabilidad de transitar de el uno al otro después de hacer la observación"
   ]
  },
  {
   "cell_type": "code",
   "execution_count": 6,
   "metadata": {},
   "outputs": [
    {
     "name": "stdout",
     "output_type": "stream",
     "text": [
      "0.499999995\n"
     ]
    }
   ],
   "source": [
    "import numpy as np\n",
    "def calculate_transition_amplitude(bra, ket):\n",
    "    # Calculate the inner product\n",
    "    amplitude = np.inner(np.conjugate(bra), ket)\n",
    "    return amplitude\n",
    "\n",
    "# Example usage\n",
    "bra = np.array([0.5, 0.5, 0.5, 0.5])\n",
    "ket = np.array([0.33333333, 0.33333333, 0.33333333, 0])\n",
    "transition_amplitude = calculate_transition_amplitude(bra, ket)\n",
    "print(transition_amplitude)\n",
    "\n"
   ]
  },
  {
   "cell_type": "markdown",
   "metadata": {},
   "source": [
    "2. Ahora con una matriz que describa un observable y un vector ket, el sistema revisa que la matriz sea hermitiana, y si lo es, calcula la media y la varianza del observable en el estado dado."
   ]
  },
  {
   "cell_type": "code",
   "execution_count": 14,
   "metadata": {},
   "outputs": [
    {
     "name": "stdout",
     "output_type": "stream",
     "text": [
      "Mean: 2.4999999999999996\n",
      "Variance: 0.25000000000000006\n"
     ]
    }
   ],
   "source": [
    "import numpy as np\n",
    "\n",
    "def is_hermitian(matrix):\n",
    "    # Check if the matrix is Hermitian\n",
    "    return np.allclose(matrix, matrix.conj().T)\n",
    "\n",
    "def calculate_mean(matrix, ket):\n",
    "    # Calculate the mean\n",
    "    mean = np.real(np.inner(np.dot(matrix, ket).conj(), ket))\n",
    "    return mean\n",
    "\n",
    "def calculate_variance(matrix, ket):\n",
    "    # Calculate the variance\n",
    "    mean = calculate_mean(matrix, ket)\n",
    "    mu = [[mean, 0], [0, mean]]\n",
    "    key = np.dot(matrix - mu, matrix - mu)\n",
    "    variance = np.real(np.inner(ket.conj(), np.dot(key, ket)))\n",
    "    return variance\n",
    "\n",
    "# Example usage\n",
    "matrix = np.array([[1, -1j], [1j, 2]])\n",
    "ket = np.array([1/np.sqrt(2), 1j/np.sqrt(2)])\n",
    "if is_hermitian(matrix):\n",
    "    mean = calculate_mean(matrix, ket)\n",
    "    variance = calculate_variance(matrix, ket)\n",
    "    print(\"Mean:\", mean)\n",
    "    print(\"Variance:\", variance)\n",
    "else:\n",
    "    print(\"The matrix is not Hermitian.\")\n"
   ]
  },
  {
   "cell_type": "markdown",
   "metadata": {},
   "source": [
    "3. El sistema calcula los valores propios del observable y la probabilidad de que el sistema transite a alguno de los vectores propios después de la observación."
   ]
  },
  {
   "cell_type": "code",
   "execution_count": 25,
   "metadata": {},
   "outputs": [
    {
     "name": "stdout",
     "output_type": "stream",
     "text": [
      "Eigenvalues: [-1.41421356+0.j  1.41421356+0.j]\n",
      "Eigenvectors: [[ 0.92387953+0.j         -0.        -0.38268343j]\n",
      " [-0.        -0.38268343j  0.92387953+0.j        ]]\n",
      "Probability: [0.5 0.5]\n"
     ]
    }
   ],
   "source": [
    "matrix = np.array([[-1, -1j], [1j, 1]])\n",
    "eigenvalues, eigenvectors = np.linalg.eig(matrix)\n",
    "ket = np.array([1/np.sqrt(2), 1/np.sqrt(2)])\n",
    "probability = abs(np.inner(eigenvectors.conj(), ket)) ** 2\n",
    "\n",
    "print(\"Eigenvalues:\", eigenvalues)\n",
    "print(\"Eigenvectors:\", eigenvectors)\n",
    "print(\"Probability:\", probability)"
   ]
  },
  {
   "cell_type": "markdown",
   "metadata": {},
   "source": [
    "4. Se considera la dinámica del sistema. Ahora con una serie de matrices \"Un\" el sistema calcula el estado final a partir de un estado inicial."
   ]
  },
  {
   "cell_type": "code",
   "execution_count": 30,
   "metadata": {},
   "outputs": [
    {
     "name": "stdout",
     "output_type": "stream",
     "text": [
      "Final State: [0 1]\n"
     ]
    }
   ],
   "source": [
    "import numpy as np\n",
    "\n",
    "def calculate_final_state(initial_state, matrices):\n",
    "    final_state = initial_state\n",
    "    for matrix in matrices:\n",
    "        final_state = np.dot(matrix, final_state)\n",
    "    return final_state\n",
    "\n",
    "# Example usage\n",
    "initial_state = np.array([1, 0])\n",
    "matrices = [np.array([[1, 0], [0, 1]]), np.array([[0, 1], [1, 0]])]\n",
    "final_state = calculate_final_state(initial_state, matrices)\n",
    "print(\"Final State:\", final_state)\n",
    "\n"
   ]
  },
  {
   "cell_type": "markdown",
   "metadata": {},
   "source": [
    "### REALICE LOS SIGUIENTES PROBLEMAS\n",
    "#### 4.3.1\n",
    "Find all the possible states the system described in Exercise 4.2.2 can transition into after a measurement has been carried out\n",
    "\n",
    "Exercise 4.2.2 Consider a particle in initial spin up. Apply Sx to it and determine the probability that the resulting state is still spin up."
   ]
  },
  {
   "cell_type": "code",
   "execution_count": 35,
   "metadata": {},
   "outputs": [
    {
     "name": "stdout",
     "output_type": "stream",
     "text": [
      "Eigenvalues: [ 1. -1.]\n",
      "Eigenvectors: [[ 0.70710678 -0.70710678]\n",
      " [ 0.70710678  0.70710678]]\n",
      "Probability: [0.5 0.5]\n"
     ]
    }
   ],
   "source": [
    "Sx = np.array([[0, 1], [1, 0]])\n",
    "eigenvalues, eigenvectors = np.linalg.eig(Sx)\n",
    "ket = np.array([1, 0])\n",
    "probability = abs(np.inner(eigenvectors.conj(), ket)) ** 2\n",
    "\n",
    "print(\"Eigenvalues:\", eigenvalues)\n",
    "print(\"Eigenvectors:\", eigenvectors)\n",
    "print(\"Probability:\", probability)"
   ]
  },
  {
   "cell_type": "code",
   "execution_count": null,
   "metadata": {},
   "outputs": [],
   "source": []
  }
 ],
 "metadata": {
  "kernelspec": {
   "display_name": "Python 3",
   "language": "python",
   "name": "python3"
  },
  "language_info": {
   "codemirror_mode": {
    "name": "ipython",
    "version": 3
   },
   "file_extension": ".py",
   "mimetype": "text/x-python",
   "name": "python",
   "nbconvert_exporter": "python",
   "pygments_lexer": "ipython3",
   "version": "3.10.11"
  }
 },
 "nbformat": 4,
 "nbformat_minor": 2
}
